{
 "cells": [
  {
   "cell_type": "markdown",
   "metadata": {},
   "source": [
    "# Advanced Analytics\n",
    "This notebook contains advanced analytics including customer segmentation and churn prediction."
   ]
  },
  {
   "cell_type": "code",
   "execution_count": 1,
   "metadata": {
    "execution": {
     "iopub.execute_input": "2025-05-31T17:01:44.764572Z",
     "iopub.status.busy": "2025-05-31T17:01:44.764572Z",
     "iopub.status.idle": "2025-05-31T17:02:01.404266Z",
     "shell.execute_reply": "2025-05-31T17:02:01.404266Z"
    }
   },
   "outputs": [],
   "source": [
    "import pandas as pd\n",
    "import numpy as np\n",
    "from sklearn.cluster import KMeans\n",
    "from sklearn.preprocessing import StandardScaler\n",
    "from sklearn.model_selection import train_test_split\n",
    "from sklearn.ensemble import RandomForestClassifier\n",
    "from sklearn.metrics import classification_report, confusion_matrix\n",
    "import matplotlib.pyplot as plt\n",
    "import seaborn as sns"
   ]
  },
  {
   "cell_type": "code",
   "execution_count": 2,
   "metadata": {
    "execution": {
     "iopub.execute_input": "2025-05-31T17:02:01.404266Z",
     "iopub.status.busy": "2025-05-31T17:02:01.404266Z",
     "iopub.status.idle": "2025-05-31T17:02:01.414315Z",
     "shell.execute_reply": "2025-05-31T17:02:01.414315Z"
    }
   },
   "outputs": [],
   "source": [
    "def load_processed_data():\n",
    "    # Load processed data\n",
    "    sales_df = pd.read_csv('../data/processed/processed_sales.csv')\n",
    "    customers_df = pd.read_csv('../data/processed/processed_customers.csv')\n",
    "    products_df = pd.read_csv('../data/processed/processed_products.csv')\n",
    "    rfm_df = pd.read_csv('../data/processed/customer_rfm.csv')\n",
    "    \n",
    "    return sales_df, customers_df, products_df, rfm_df"
   ]
  },
  {
   "cell_type": "code",
   "execution_count": 3,
   "metadata": {
    "execution": {
     "iopub.execute_input": "2025-05-31T17:02:01.414315Z",
     "iopub.status.busy": "2025-05-31T17:02:01.414315Z",
     "iopub.status.idle": "2025-05-31T17:02:01.426491Z",
     "shell.execute_reply": "2025-05-31T17:02:01.426491Z"
    }
   },
   "outputs": [],
   "source": [
    "def perform_customer_segmentation(rfm_df):\n",
    "    # Select RFM metrics for clustering\n",
    "    rfm_data = rfm_df[['Recency', 'Frequency', 'Monetary']]\n",
    "    \n",
    "    # Scale the data\n",
    "    scaler = StandardScaler()\n",
    "    rfm_scaled = scaler.fit_transform(rfm_data)\n",
    "    \n",
    "    # Determine optimal number of clusters using Elbow method\n",
    "    sse = {}\n",
    "    for k in range(1, 11):\n",
    "        kmeans = KMeans(n_clusters=k, random_state=42)\n",
    "        kmeans.fit(rfm_scaled)\n",
    "        sse[k] = kmeans.inertia_\n",
    "    \n",
    "    # Plot Elbow curve\n",
    "    plt.figure(figsize=(10, 6))\n",
    "    plt.plot(list(sse.keys()), list(sse.values()), 'bx-')\n",
    "    plt.xlabel('Number of clusters (k)')\n",
    "    plt.ylabel('Sum of Squared Distances')\n",
    "    plt.title('Elbow Method For Optimal k')\n",
    "    plt.show()\n",
    "    \n",
    "    # Apply K-means clustering (assuming 4 clusters based on elbow method)\n",
    "    kmeans = KMeans(n_clusters=4, random_state=42)\n",
    "    rfm_df['Segment'] = kmeans.fit_predict(rfm_scaled)\n",
    "    \n",
    "    # Analyze segments\n",
    "    segment_analysis = rfm_df.groupby('Segment').agg({\n",
    "        'Recency': 'mean',\n",
    "        'Frequency': 'mean',\n",
    "        'Monetary': 'mean',\n",
    "        'CustomerID': 'count'\n",
    "    }).rename(columns={'CustomerID': 'Count'})\n",
    "    \n",
    "    return rfm_df, segment_analysis"
   ]
  },
  {
   "cell_type": "code",
   "execution_count": 4,
   "metadata": {
    "execution": {
     "iopub.execute_input": "2025-05-31T17:02:01.426491Z",
     "iopub.status.busy": "2025-05-31T17:02:01.426491Z",
     "iopub.status.idle": "2025-05-31T17:02:01.435832Z",
     "shell.execute_reply": "2025-05-31T17:02:01.435832Z"
    }
   },
   "outputs": [],
   "source": [
    "def predict_churn(rfm_df, days_threshold=90):\n",
    "    # Create churn label (1 if customer hasn't purchased in 'days_threshold' days)\n",
    "    rfm_df['Churn'] = (rfm_df['Recency'] > days_threshold).astype(int)\n",
    "    \n",
    "    # Prepare features and target\n",
    "    X = rfm_df[['Recency', 'Frequency', 'Monetary']]\n",
    "    y = rfm_df['Churn']\n",
    "    \n",
    "    # Split data\n",
    "    X_train, X_test, y_train, y_test = train_test_split(X, y, test_size=0.3, random_state=42)\n",
    "    \n",
    "    # Train model\n",
    "    model = RandomForestClassifier(random_state=42)\n",
    "    model.fit(X_train, y_train)\n",
    "    \n",
    "    # Make predictions\n",
    "    y_pred = model.predict(X_test)\n",
    "    \n",
    "    # Evaluate model\n",
    "    print(classification_report(y_test, y_pred))\n",
    "    \n",
    "    # Feature importance\n",
    "    feature_importance = pd.DataFrame({\n",
    "        'Feature': X.columns,\n",
    "        'Importance': model.feature_importances_\n",
    "    }).sort_values('Importance', ascending=False)\n",
    "    \n",
    "    return model, feature_importance"
   ]
  },
  {
   "cell_type": "code",
   "execution_count": 5,
   "metadata": {
    "execution": {
     "iopub.execute_input": "2025-05-31T17:02:01.438369Z",
     "iopub.status.busy": "2025-05-31T17:02:01.438369Z",
     "iopub.status.idle": "2025-05-31T17:02:01.446818Z",
     "shell.execute_reply": "2025-05-31T17:02:01.446818Z"
    }
   },
   "outputs": [],
   "source": [
    "def main():\n",
    "    # Load processed data\n",
    "    sales_df, customers_df, products_df, rfm_df = load_processed_data()\n",
    "    \n",
    "    # Perform customer segmentation\n",
    "    print(\"Performing customer segmentation...\")\n",
    "    rfm_df, segment_analysis = perform_customer_segmentation(rfm_df)\n",
    "    print(\"\\nSegment Analysis:\")\n",
    "    print(segment_analysis)\n",
    "    \n",
    "    # Predict churn\n",
    "    print(\"\\nTraining churn prediction model...\")\n",
    "    model, feature_importance = predict_churn(rfm_df)\n",
    "    print(\"\\nFeature Importance for Churn Prediction:\")\n",
    "    print(feature_importance)\n",
    "    \n",
    "    # Save results\n",
    "    rfm_df.to_csv('../data/processed/customer_segments.csv', index=False)"
   ]
  },
  {
   "cell_type": "code",
   "execution_count": 6,
   "metadata": {
    "execution": {
     "iopub.execute_input": "2025-05-31T17:02:01.446818Z",
     "iopub.status.busy": "2025-05-31T17:02:01.446818Z",
     "iopub.status.idle": "2025-05-31T17:02:02.456386Z",
     "shell.execute_reply": "2025-05-31T17:02:02.456386Z"
    }
   },
   "outputs": [
    {
     "name": "stdout",
     "output_type": "stream",
     "text": [
      "Performing customer segmentation...\n"
     ]
    },
    {
     "data": {
      "image/png": "[encoded data removed]",
      "text/plain": [
       "<Figure size 1000x600 with 1 Axes>"
      ]
     },
     "metadata": {},
     "output_type": "display_data"
    },
    {
     "name": "stdout",
     "output_type": "stream",
     "text": [
      "\n",
      "Segment Analysis:\n",
      "            Recency  Frequency      Monetary  Count\n",
      "Segment                                            \n",
      "0        372.779006   3.038674   3150.864420    181\n",
      "1         95.689266   5.793785   6374.832797    354\n",
      "2        102.663300   3.444444   3179.353064    297\n",
      "3         83.834356   8.441718  10299.722270    163\n",
      "\n",
      "Training churn prediction model...\n"
     ]
    },
    {
     "name": "stdout",
     "output_type": "stream",
     "text": [
      "              precision    recall  f1-score   support\n",
      "\n",
      "           0       1.00      1.00      1.00       123\n",
      "           1       1.00      1.00      1.00       176\n",
      "\n",
      "    accuracy                           1.00       299\n",
      "   macro avg       1.00      1.00      1.00       299\n",
      "weighted avg       1.00      1.00      1.00       299\n",
      "\n",
      "\n",
      "Feature Importance for Churn Prediction:\n",
      "     Feature  Importance\n",
      "0    Recency    0.907937\n",
      "2   Monetary    0.052931\n",
      "1  Frequency    0.039133\n"
     ]
    }
   ],
   "source": [
    "if __name__ == \"__main__\":\n",
    "    main()"
   ]
  }
 ],
 "metadata": {
  "kernelspec": {
   "display_name": "Python 3",
   "language": "python",
   "name": "python3"
  },
  "language_info": {
   "codemirror_mode": {
    "name": "ipython",
    "version": 3
   },
   "file_extension": ".py",
   "mimetype": "text/x-python",
   "name": "python",
   "nbconvert_exporter": "python",
   "pygments_lexer": "ipython3",
   "version": "3.12.3"
  }
 },
 "nbformat": 4,
 "nbformat_minor": 4
}
