{
 "cells": [
  {
   "cell_type": "markdown",
   "metadata": {},
   "source": [
    "# Sales Data Preprocessing\n",
    "This notebook handles the data cleaning and preprocessing for the sales dashboard project."
   ]
  },
  {
   "cell_type": "code",
   "execution_count": 1,
   "metadata": {
    "execution": {
     "iopub.execute_input": "2025-05-31T17:00:37.031359Z",
     "iopub.status.busy": "2025-05-31T17:00:37.031359Z",
     "iopub.status.idle": "2025-05-31T17:00:37.949473Z",
     "shell.execute_reply": "2025-05-31T17:00:37.949473Z"
    }
   },
   "outputs": [],
   "source": [
    "import pandas as pd\n",
    "import numpy as np\n",
    "from datetime import datetime\n",
    "import os\n",
    "\n",
    "# Create output directory if it doesn't exist\n",
    "os.makedirs('../data/processed', exist_ok=True)"
   ]
  },
  {
   "cell_type": "code",
   "execution_count": 2,
   "metadata": {
    "execution": {
     "iopub.execute_input": "2025-05-31T17:00:37.949473Z",
     "iopub.status.busy": "2025-05-31T17:00:37.949473Z",
     "iopub.status.idle": "2025-05-31T17:00:37.959212Z",
     "shell.execute_reply": "2025-05-31T17:00:37.959212Z"
    }
   },
   "outputs": [],
   "source": [
    "def load_data():\n",
    "    # Load raw data\n",
    "    sales_df = pd.read_csv('../data/raw/sales_data.csv')\n",
    "    customers_df = pd.read_csv('../data/raw/customers.csv')\n",
    "    products_df = pd.read_csv('../data/raw/products.csv')\n",
    "    \n",
    "    return sales_df, customers_df, products_df"
   ]
  },
  {
   "cell_type": "code",
   "execution_count": 3,
   "metadata": {
    "execution": {
     "iopub.execute_input": "2025-05-31T17:00:37.959212Z",
     "iopub.status.busy": "2025-05-31T17:00:37.959212Z",
     "iopub.status.idle": "2025-05-31T17:00:37.971208Z",
     "shell.execute_reply": "2025-05-31T17:00:37.971208Z"
    }
   },
   "outputs": [],
   "source": [
    "def clean_data(sales_df, customers_df, products_df):\n",
    "    # Convert date columns to datetime\n",
    "    sales_df['OrderDate'] = pd.to_datetime(sales_df['OrderDate'])\n",
    "    customers_df['JoinDate'] = pd.to_datetime(customers_df['JoinDate'])\n",
    "    customers_df['LastPurchaseDate'] = pd.to_datetime(customers_df['LastPurchaseDate'])\n",
    "    \n",
    "    # Handle missing values\n",
    "    sales_df = sales_df.dropna(subset=['CustomerID', 'ProductID'])\n",
    "    customers_df = customers_df.drop_duplicates(subset=['CustomerID'])\n",
    "    products_df = products_df.drop_duplicates(subset=['ProductID'])\n",
    "    \n",
    "    # Calculate total price\n",
    "    sales_df['TotalPrice'] = sales_df['Quantity'] * sales_df['UnitPrice']\n",
    "    \n",
    "    return sales_df, customers_df, products_df"
   ]
  },
  {
   "cell_type": "code",
   "execution_count": 4,
   "metadata": {
    "execution": {
     "iopub.execute_input": "2025-05-31T17:00:37.975233Z",
     "iopub.status.busy": "2025-05-31T17:00:37.975233Z",
     "iopub.status.idle": "2025-05-31T17:00:37.983096Z",
     "shell.execute_reply": "2025-05-31T17:00:37.983096Z"
    }
   },
   "outputs": [],
   "source": [
    "def calculate_rfm(sales_df, customers_df, current_date=None):\n",
    "    if current_date is None:\n",
    "        current_date = sales_df['OrderDate'].max()\n",
    "    \n",
    "    # Calculate RFM metrics\n",
    "    rfm = sales_df.groupby('CustomerID').agg({\n",
    "        'OrderDate': lambda x: (current_date - x.max()).days,  # Recency\n",
    "        'OrderID': 'count',  # Frequency\n",
    "        'TotalPrice': 'sum'  # Monetary\n",
    "    }).reset_index()\n",
    "    \n",
    "    # Rename columns\n",
    "    rfm.columns = ['CustomerID', 'Recency', 'Frequency', 'Monetary']\n",
    "    \n",
    "    # Merge with customer data\n",
    "    rfm = pd.merge(rfm, customers_df, on='CustomerID', how='left')\n",
    "    \n",
    "    return rfm"
   ]
  },
  {
   "cell_type": "code",
   "execution_count": 5,
   "metadata": {
    "execution": {
     "iopub.execute_input": "2025-05-31T17:00:37.988150Z",
     "iopub.status.busy": "2025-05-31T17:00:37.987135Z",
     "iopub.status.idle": "2025-05-31T17:00:37.995174Z",
     "shell.execute_reply": "2025-05-31T17:00:37.995174Z"
    }
   },
   "outputs": [],
   "source": [
    "def main():\n",
    "    # Load data\n",
    "    sales_df, customers_df, products_df = load_data()\n",
    "    \n",
    "    # Clean data\n",
    "    sales_df, customers_df, products_df = clean_data(sales_df, customers_df, products_df)\n",
    "    \n",
    "    # Calculate RFM\n",
    "    rfm_df = calculate_rfm(sales_df, customers_df)\n",
    "    \n",
    "    # Save processed data\n",
    "    sales_df.to_csv('../data/processed/processed_sales.csv', index=False)\n",
    "    customers_df.to_csv('../data/processed/processed_customers.csv', index=False)\n",
    "    products_df.to_csv('../data/processed/processed_products.csv', index=False)\n",
    "    rfm_df.to_csv('../data/processed/customer_rfm.csv', index=False)\n",
    "    \n",
    "    print(\"Data processing complete!\")"
   ]
  },
  {
   "cell_type": "code",
   "execution_count": 6,
   "metadata": {
    "execution": {
     "iopub.execute_input": "2025-05-31T17:00:37.998050Z",
     "iopub.status.busy": "2025-05-31T17:00:37.998050Z",
     "iopub.status.idle": "2025-05-31T17:00:38.390943Z",
     "shell.execute_reply": "2025-05-31T17:00:38.390943Z"
    }
   },
   "outputs": [
    {
     "name": "stdout",
     "output_type": "stream",
     "text": [
      "Data processing complete!\n"
     ]
    }
   ],
   "source": [
    "if __name__ == \"__main__\":\n",
    "    main()"
   ]
  }
 ],
 "metadata": {
  "kernelspec": {
   "display_name": "Python 3",
   "language": "python",
   "name": "python3"
  },
  "language_info": {
   "codemirror_mode": {
    "name": "ipython",
    "version": 3
   },
   "file_extension": ".py",
   "mimetype": "text/x-python",
   "name": "python",
   "nbconvert_exporter": "python",
   "pygments_lexer": "ipython3",
   "version": "3.12.3"
  }
 },
 "nbformat": 4,
 "nbformat_minor": 4
}
